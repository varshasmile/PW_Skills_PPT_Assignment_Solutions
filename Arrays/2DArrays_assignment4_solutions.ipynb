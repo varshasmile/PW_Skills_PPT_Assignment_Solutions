{
 "cells": [
  {
   "cell_type": "markdown",
   "id": "9628822a-d2b2-4890-86be-857ea418116b",
   "metadata": {},
   "source": [
    "<aside>\n",
    "💡 **Question 1**\n",
    "Given three integer arrays arr1, arr2 and arr3 **sorted** in **strictly increasing** order, return a sorted array of **only** the integers that appeared in **all** three arrays.\n",
    "\n",
    "**Example 1:**\n",
    "\n",
    "Input: arr1 = [1,2,3,4,5], arr2 = [1,2,5,7,9], arr3 = [1,3,4,5,8]\n",
    "\n",
    "Output: [1,5]\n",
    "\n",
    "**Explanation:** Only 1 and 5 appeared in the three arrays.\n",
    "\n",
    "</aside>"
   ]
  },
  {
   "cell_type": "code",
   "execution_count": 3,
   "id": "65c70eae-ba62-4e1f-9df9-745f5340dee0",
   "metadata": {},
   "outputs": [
    {
     "data": {
      "text/plain": [
       "[1, 5]"
      ]
     },
     "execution_count": 3,
     "metadata": {},
     "output_type": "execute_result"
    }
   ],
   "source": [
    "def common_int(arr1, arr2, arr3):\n",
    "    output = []\n",
    "    for num in arr1:\n",
    "        if num in arr2 and num in arr3:\n",
    "            output.append(num)\n",
    "            \n",
    "    return output\n",
    "\n",
    "common_int(arr1 = [1,2,3,4,5], arr2 = [1,2,5,7,9], arr3 = [1,3,4,5,8])"
   ]
  },
  {
   "cell_type": "markdown",
   "id": "96404d99-dd69-45af-bd1c-50de9864bacf",
   "metadata": {},
   "source": [
    "<aside>\n",
    "💡 **Question 2**\n",
    "\n",
    "Given two **0-indexed** integer arrays nums1 and nums2, return *a list* answer *of size* 2 *where:*\n",
    "\n",
    "- answer[0] *is a list of all **distinct** integers in* nums1 *which are **not** present in* nums2*.*\n",
    "- answer[1] *is a list of all **distinct** integers in* nums2 *which are **not** present in* nums1.\n",
    "\n",
    "**Note** that the integers in the lists may be returned in **any** order.\n",
    "\n",
    "**Example 1:**\n",
    "\n",
    "**Input:** nums1 = [1,2,3], nums2 = [2,4,6]\n",
    "\n",
    "**Output:** [[1,3],[4,6]]\n",
    "\n",
    "**Explanation:**\n",
    "\n",
    "For nums1, nums1[1] = 2 is present at index 0 of nums2, whereas nums1[0] = 1 and nums1[2] = 3 are not present in nums2. Therefore, answer[0] = [1,3].\n",
    "\n",
    "For nums2, nums2[0] = 2 is present at index 1 of nums1, whereas nums2[1] = 4 and nums2[2] = 6 are not present in nums2. Therefore, answer[1] = [4,6].\n",
    "\n",
    "</aside>"
   ]
  },
  {
   "cell_type": "code",
   "execution_count": 4,
   "id": "2580da93-5664-43bc-a33c-2c5a96397ad7",
   "metadata": {},
   "outputs": [
    {
     "data": {
      "text/plain": [
       "[[1, 3], [4, 6]]"
      ]
     },
     "execution_count": 4,
     "metadata": {},
     "output_type": "execute_result"
    }
   ],
   "source": [
    "def findDifference(nums1: list[int], nums2: list[int]) -> list[list[int]]:\n",
    "    nums1 = set(nums1)\n",
    "    nums2 = set(nums2)\n",
    "\n",
    "    answer0 = nums1.difference(nums2)\n",
    "    answer1 = nums2.difference(nums1)\n",
    "\n",
    "    return [list(answer0), list(answer1)]\n",
    "\n",
    "findDifference(nums1 = [1,2,3], nums2 = [2,4,6])"
   ]
  },
  {
   "cell_type": "markdown",
   "id": "63915b5d-2d97-4715-a32e-ba25fcfb9dac",
   "metadata": {},
   "source": [
    "<aside>\n",
    "💡 **Question 3**\n",
    "Given a 2D integer array matrix, return *the **transpose** of* matrix.\n",
    "\n",
    "The **transpose** of a matrix is the matrix flipped over its main diagonal, switching the matrix's row and column indices.\n",
    "\n",
    "**Example 1:**\n",
    "\n",
    "Input: matrix = [[1,2,3],[4,5,6],[7,8,9]]\n",
    "\n",
    "Output: [[1,4,7],[2,5,8],[3,6,9]]\n",
    "\n",
    "</aside>"
   ]
  },
  {
   "cell_type": "code",
   "execution_count": 14,
   "id": "a1aa1643-3141-41d1-8c20-8eb738585850",
   "metadata": {},
   "outputs": [
    {
     "data": {
      "text/plain": [
       "[[1, 4, 7], [2, 5, 8], [3, 6, 9]]"
      ]
     },
     "execution_count": 14,
     "metadata": {},
     "output_type": "execute_result"
    }
   ],
   "source": [
    "def transpose(matrix: list[list[int]]) -> list[list[int]]:\n",
    "    trans_matrix = []\n",
    "    for i in range(len(matrix[0])):\n",
    "        row = []\n",
    "        for j in range(len(matrix)):\n",
    "            row.append(matrix[j][i])\n",
    "\n",
    "        trans_matrix.append(row)\n",
    "\n",
    "    return trans_matrix\n",
    "\n",
    "transpose([[1,2,3],[4,5,6],[7,8,9]])"
   ]
  },
  {
   "cell_type": "markdown",
   "id": "2594dc3f-2d69-4e89-b405-b7a18f4c699b",
   "metadata": {},
   "source": [
    "<aside>\n",
    "💡 **Question 4**\n",
    "Given an integer array nums of 2n integers, group these integers into n pairs (a1, b1), (a2, b2), ..., (an, bn) such that the sum of min(ai, bi) for all i is **maximized**. Return *the maximized sum*.\n",
    "\n",
    "**Example 1:**\n",
    "\n",
    "Input: nums = [1,4,3,2]\n",
    "\n",
    "Output: 4\n",
    "\n",
    "**Explanation:** All possible pairings (ignoring the ordering of elements) are:\n",
    "\n",
    "1. (1, 4), (2, 3) -> min(1, 4) + min(2, 3) = 1 + 2 = 3\n",
    "\n",
    "2. (1, 3), (2, 4) -> min(1, 3) + min(2, 4) = 1 + 2 = 3\n",
    "\n",
    "3. (1, 2), (3, 4) -> min(1, 2) + min(3, 4) = 1 + 3 = 4\n",
    "\n",
    "So the maximum possible sum is 4.\n",
    "\n",
    "</aside>"
   ]
  },
  {
   "cell_type": "code",
   "execution_count": 15,
   "id": "4938a2b5-7d95-42b1-b741-fdcc6f4d332e",
   "metadata": {},
   "outputs": [
    {
     "data": {
      "text/plain": [
       "4"
      ]
     },
     "execution_count": 15,
     "metadata": {},
     "output_type": "execute_result"
    }
   ],
   "source": [
    "def arrayPairSum(nums):\n",
    "    return sum(sorted(nums[::2]))\n",
    "\n",
    "arrayPairSum([1,4,3,2])"
   ]
  },
  {
   "cell_type": "markdown",
   "id": "091cb897-60f9-465c-a5c0-2fb8bb320957",
   "metadata": {},
   "source": [
    "<aside>\n",
    "💡 **Question 5**\n",
    "You have n coins and you want to build a staircase with these coins. The staircase consists of k rows where the ith row has exactly i coins. The last row of the staircase **may be** incomplete.\n",
    "\n",
    "Given the integer n, return *the number of **complete rows** of the staircase you will build*.\n",
    "\n",
    "**Example 1:**\n",
    "**Input:** n = 5\n",
    "\n",
    "**Output:** 2\n",
    "\n",
    "**Explanation:** Because the 3rd row is incomplete, we return 2.\n",
    "</aside>"
   ]
  },
  {
   "attachments": {
    "0ad5ccf5-12aa-4895-bb9e-4245166ee3a3.jpg": {
     "image/jpeg": "[encoded data removed]"
    }
   },
   "cell_type": "markdown",
   "id": "15f49d1c-4155-4a04-9916-ac19ded6c5f3",
   "metadata": {},
   "source": [
    "![v2.jpg](attachment:0ad5ccf5-12aa-4895-bb9e-4245166ee3a3.jpg)"
   ]
  },
  {
   "cell_type": "code",
   "execution_count": 22,
   "id": "3b7339b3-8424-4245-a6f2-189d283a9292",
   "metadata": {},
   "outputs": [
    {
     "data": {
      "text/plain": [
       "2"
      ]
     },
     "execution_count": 22,
     "metadata": {},
     "output_type": "execute_result"
    }
   ],
   "source": [
    "def arrangeCoins(n):\n",
    "    return int((-1 + (1 + 8*n) ** 0.5) // 2) \n",
    "            \n",
    "arrangeCoins(5)"
   ]
  },
  {
   "cell_type": "markdown",
   "id": "dcb41fae-6c7f-45cb-8503-538b1ef9616e",
   "metadata": {},
   "source": [
    "<aside>\n",
    "💡 **Question 6**\n",
    "Given an integer array nums sorted in **non-decreasing** order, return *an array of **the squares of each number** sorted in non-decreasing order*.\n",
    "\n",
    "**Example 1:**\n",
    "\n",
    "Input: nums = [-4,-1,0,3,10]\n",
    "\n",
    "Output: [0,1,9,16,100]\n",
    "\n",
    "**Explanation:** After squaring, the array becomes [16,1,0,9,100].\n",
    "After sorting, it becomes [0,1,9,16,100]\n",
    "\n",
    "</aside>"
   ]
  },
  {
   "cell_type": "code",
   "execution_count": 8,
   "id": "45bd0994-4ea7-4619-a69b-a8d4e1173e14",
   "metadata": {},
   "outputs": [
    {
     "data": {
      "text/plain": [
       "[0, 1, 9, 16, 100]"
      ]
     },
     "execution_count": 8,
     "metadata": {},
     "output_type": "execute_result"
    }
   ],
   "source": [
    "def sortedSquares(nums):\n",
    "    for i in range(len(nums)):\n",
    "        nums[i] *= nums[i]\n",
    "        \n",
    "    nums.sort()\n",
    "    return nums\n",
    "\n",
    "sortedSquares([-4,-1,0,3,10])"
   ]
  },
  {
   "cell_type": "markdown",
   "id": "4265fa6b-4e10-4d6e-b17d-67c56628a8d2",
   "metadata": {},
   "source": [
    "<aside>\n",
    "💡 **Question 7**\n",
    "You are given an m x n matrix M initialized with all 0's and an array of operations ops, where ops[i] = [ai, bi] means M[x][y] should be incremented by one for all 0 <= x < ai and 0 <= y < bi.\n",
    "\n",
    "Count and return *the number of maximum integers in the matrix after performing all the operations*\n",
    "\n",
    "**Example 1:**\n",
    "\n",
    "**Input:** m = 3, n = 3, ops = [[2,2],[3,3]]\n",
    "\n",
    "**Output:** 4\n",
    "\n",
    "**Explanation:** The maximum integer in M is 2, and there are four of it in M. So return 4.\n",
    "\n",
    "</aside>"
   ]
  },
  {
   "attachments": {
    "6455a535-a441-45bf-b4a1-946ba5c3bc59.jpg": {
     "image/jpeg": "[encoded data removed]"
    }
   },
   "cell_type": "markdown",
   "id": "32831350-387f-4377-9aa4-0bec09056111",
   "metadata": {},
   "source": [
    "![q4.jpg](attachment:6455a535-a441-45bf-b4a1-946ba5c3bc59.jpg)"
   ]
  },
  {
   "cell_type": "code",
   "execution_count": 18,
   "id": "82197c46-b50c-4ffe-bfe6-619d473a683d",
   "metadata": {},
   "outputs": [
    {
     "data": {
      "text/plain": [
       "4"
      ]
     },
     "execution_count": 18,
     "metadata": {},
     "output_type": "execute_result"
    }
   ],
   "source": [
    "def maxCount(m: int, n: int, ops: list[list[int]]) -> int:\n",
    "    if not ops:\n",
    "        return m*n\n",
    "    return min(op[0] for op in ops)*min(op[1] for op in ops)\n",
    "    \n",
    "maxCount(m = 3, n = 3, ops = [[2,2],[3,3]])"
   ]
  },
  {
   "cell_type": "markdown",
   "id": "8d1b0c4b-aa59-4fd4-a0e5-a1147f56698d",
   "metadata": {},
   "source": [
    "<aside>\n",
    "💡 **Question 8**\n",
    "\n",
    "Given the array nums consisting of 2n elements in the form [x1,x2,...,xn,y1,y2,...,yn].\n",
    "\n",
    "*Return the array in the form* [x1,y1,x2,y2,...,xn,yn].\n",
    "\n",
    "**Example 1:**\n",
    "\n",
    "**Input:** nums = [2,5,1,3,4,7], n = 3\n",
    "\n",
    "**Output:** [2,3,5,4,1,7]\n",
    "\n",
    "**Explanation:** Since x1=2, x2=5, x3=1, y1=3, y2=4, y3=7 then the answer is [2,3,5,4,1,7].\n",
    "\n",
    "</aside>"
   ]
  },
  {
   "cell_type": "code",
   "execution_count": 21,
   "id": "b56a29dd-ce61-4876-bd1a-943b40b7c7c9",
   "metadata": {},
   "outputs": [
    {
     "data": {
      "text/plain": [
       "[2, 3, 5, 4, 1, 7]"
      ]
     },
     "execution_count": 21,
     "metadata": {},
     "output_type": "execute_result"
    }
   ],
   "source": [
    "def shuffle(nums, n):\n",
    "    for i in range(n):\n",
    "        nums[i] = nums[i] << 10          #store x value and make space for y value\n",
    "        nums[i] = nums[i] | nums[n+i]   # storing x and y value together at one place\n",
    "\n",
    "    j=2*n-1\n",
    "    for i in range(n-1, -1, -1):\n",
    "        y = nums[i] & (2**10-1)\n",
    "        x = nums[i] >> 10\n",
    "        nums[j] = y\n",
    "        nums[j-1] = x\n",
    "        j -= 2\n",
    "\n",
    "    return nums\n",
    "\n",
    "shuffle(nums = [2,5,1,3,4,7], n = 3)"
   ]
  },
  {
   "cell_type": "code",
   "execution_count": null,
   "id": "212beef4-b407-4908-a1e2-9a4bce1e51ff",
   "metadata": {},
   "outputs": [],
   "source": []
  }
 ],
 "metadata": {
  "kernelspec": {
   "display_name": "Python 3 (ipykernel)",
   "language": "python",
   "name": "python3"
  },
  "language_info": {
   "codemirror_mode": {
    "name": "ipython",
    "version": 3
   },
   "file_extension": ".py",
   "mimetype": "text/x-python",
   "name": "python",
   "nbconvert_exporter": "python",
   "pygments_lexer": "ipython3",
   "version": "3.10.8"
  }
 },
 "nbformat": 4,
 "nbformat_minor": 5
}
