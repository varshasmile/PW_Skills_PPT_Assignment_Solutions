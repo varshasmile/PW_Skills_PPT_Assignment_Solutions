{
 "cells": [
  {
   "cell_type": "markdown",
   "id": "e0067189-f91e-4da3-8df0-981339803321",
   "metadata": {},
   "source": [
    "Question 1\n",
    "Given an integer array nums of length n and an integer target, find three integers\n",
    "in nums such that the sum is closest to the target.\n",
    "Return the sum of the three integers.\n",
    "\n",
    "You may assume that each input would have exactly one solution.\n",
    "\n",
    "Example 1:\n",
    "Input: nums = [-1,2,1,-4], target = 1\n",
    "Output: 2\n",
    "\n",
    "Explanation: The sum that is closest to the target is 2. (-1 + 2 + 1 = 2)."
   ]
  },
  {
   "cell_type": "code",
   "execution_count": 2,
   "id": "af779ba3-96f9-4b1c-9512-0ece267ea79a",
   "metadata": {},
   "outputs": [
    {
     "data": {
      "text/plain": [
       "2"
      ]
     },
     "execution_count": 2,
     "metadata": {},
     "output_type": "execute_result"
    }
   ],
   "source": [
    "def closestSum(nums, target):\n",
    "    nums.sort()\n",
    "    closest_sum = float('-inf')\n",
    "    for i in range(len(nums)-2):\n",
    "        left = i+1\n",
    "        right = len(nums)-1\n",
    "        while left < right:\n",
    "            sum = nums[i] + nums[left] + nums[right]\n",
    "            if abs(sum - target)<abs(closest_sum - target):\n",
    "                closest_sum = sum\n",
    "            if sum<target:\n",
    "                left += 1\n",
    "            elif sum>target:\n",
    "                right -= 1\n",
    "            else:\n",
    "                return sum\n",
    "            \n",
    "    return closest_sum\n",
    "\n",
    "closestSum(nums = [-1,2,1,-4], target = 1)"
   ]
  },
  {
   "cell_type": "markdown",
   "id": "2c2f5fdc-040f-44e0-9a4f-c56d470e8e7d",
   "metadata": {},
   "source": [
    "Question 2\n",
    "Given an array nums of n integers, return an array of all the unique quadruplets\n",
    "[nums[a], nums[b], nums[c], nums[d]] such that:\n",
    "           ● 0 <= a, b, c, d < n\n",
    "           ● a, b, c, and d are distinct.\n",
    "           ● nums[a] + nums[b] + nums[c] + nums[d] == target\n",
    "\n",
    "You may return the answer in any order.\n",
    "\n",
    "Example 1:\n",
    "Input: nums = [1,0,-1,0,-2,2], target = 0\n",
    "Output: [[-2,-1,1,2],[-2,0,0,2],[-1,0,0,1]]"
   ]
  },
  {
   "cell_type": "code",
   "execution_count": 10,
   "id": "8c6b525d-bb92-4894-8f1d-d73279458b36",
   "metadata": {},
   "outputs": [
    {
     "data": {
      "text/plain": [
       "[[-2, -1, 1, 2], [-2, 0, 0, 2], [-1, 0, 0, 1]]"
      ]
     },
     "execution_count": 10,
     "metadata": {},
     "output_type": "execute_result"
    }
   ],
   "source": [
    "def fourSum(nums, target):\n",
    "    def findNSum(nums, target, N, result, results):\n",
    "        if len(nums)<N or N<2 or target<nums[0]*N or target>nums[-1]*N:\n",
    "            return\n",
    "        if N==2:\n",
    "            l = 0\n",
    "            r = len(nums)-1\n",
    "            while l < r:\n",
    "                sum = nums[l] + nums[r]\n",
    "                if sum < target:\n",
    "                    l += 1\n",
    "                elif sum > target:\n",
    "                    r -= 1\n",
    "                else:\n",
    "                    results.append(result + [nums[l], nums[r]])\n",
    "                    l += 1\n",
    "                    while l < r and nums[l] == nums[l-1]:\n",
    "                        l += 1\n",
    "                        \n",
    "        else:\n",
    "            for i in range(0, len(nums)-N+1):\n",
    "                if i==0 or (i > 0 and nums[i] != nums[i-1]):\n",
    "                    findNSum(nums[i+1:], target-nums[i], N-1, result+[nums[i]], results)\n",
    "                    \n",
    "    results = []\n",
    "    findNSum(sorted(nums), target, 4, [], results)\n",
    "    return results\n",
    "\n",
    "fourSum(nums = [1,0,-1,0,-2,2], target = 0)                                    "
   ]
  },
  {
   "cell_type": "code",
   "execution_count": 11,
   "id": "2525ecd2-7926-41e0-b1b0-a305565e9af6",
   "metadata": {},
   "outputs": [
    {
     "data": {
      "text/plain": [
       "[[2, 2, 2, 2]]"
      ]
     },
     "execution_count": 11,
     "metadata": {},
     "output_type": "execute_result"
    }
   ],
   "source": [
    "fourSum(nums = [2,2,2,2], target = 8)     "
   ]
  },
  {
   "cell_type": "markdown",
   "id": "2ab96be0-9b1e-4534-b4ec-48a19e06db66",
   "metadata": {},
   "source": [
    "<aside>\n",
    "💡 **Question 3**\n",
    "A permutation of an array of integers is an arrangement of its members into a\n",
    "sequence or linear order.\n",
    "\n",
    "For example, for arr = [1,2,3], the following are all the permutations of arr:\n",
    "[1,2,3], [1,3,2], [2, 1, 3], [2, 3, 1], [3,1,2], [3,2,1].\n",
    "\n",
    "The next permutation of an array of integers is the next lexicographically greater\n",
    "permutation of its integer. More formally, if all the permutations of the array are\n",
    "sorted in one container according to their lexicographical order, then the next\n",
    "permutation of that array is the permutation that follows it in the sorted container.\n",
    "\n",
    "If such an arrangement is not possible, the array must be rearranged as the\n",
    "lowest possible order (i.e., sorted in ascending order).\n",
    "\n",
    "● For example, the next permutation of arr = [1,2,3] is [1,3,2].\n",
    "● Similarly, the next permutation of arr = [2,3,1] is [3,1,2].\n",
    "● While the next permutation of arr = [3,2,1] is [1,2,3] because [3,2,1] does not\n",
    "have a lexicographical larger rearrangement.\n",
    "\n",
    "Given an array of integers nums, find the next permutation of nums.\n",
    "The replacement must be in place and use only constant extra memory.\n",
    "\n",
    "**Example 1:**\n",
    "Input: nums = [1,2,3]\n",
    "Output: [1,3,2]\n",
    "\n",
    "</aside>"
   ]
  },
  {
   "cell_type": "code",
   "execution_count": 3,
   "id": "79b409f5-7408-4220-b1c4-6391f8ffa778",
   "metadata": {},
   "outputs": [
    {
     "data": {
      "text/plain": [
       "[1, 3, 2]"
      ]
     },
     "execution_count": 3,
     "metadata": {},
     "output_type": "execute_result"
    }
   ],
   "source": [
    "def nextPermutation(nums):\n",
    "    i = len(nums)-1\n",
    "    j = len(nums)-1\n",
    "    \n",
    "    while i>0 and nums[i]<=nums[i-1]:\n",
    "        i -= 1\n",
    "        \n",
    "    if i==0:\n",
    "        nums.reverse()\n",
    "        return\n",
    "    \n",
    "    while nums[j]<=nums[i-1]:\n",
    "        j -= 1\n",
    "        \n",
    "    nums[j], nums[i-1] = nums[i-1], nums[j]\n",
    "    \n",
    "    nums[i:] = nums[len(nums)-1 : i-1 : -1]\n",
    "   \n",
    "nums = [1,2,3]\n",
    "nextPermutation(nums)\n",
    "nums"
   ]
  },
  {
   "cell_type": "markdown",
   "id": "650c63c3-a7b0-4075-990b-7f2b53f1b3bd",
   "metadata": {},
   "source": [
    "Question 4\n",
    "Given a sorted array of distinct integers and a target value, return the index if the\n",
    "target is found. If not, return the index where it would be if it were inserted in\n",
    "order.\n",
    "\n",
    "You must write an algorithm with O(log n) runtime complexity.\n",
    "\n",
    "Example 1:\n",
    "Input: nums = [1,3,5,6], target = 5\n",
    "Output: 2"
   ]
  },
  {
   "cell_type": "code",
   "execution_count": 1,
   "id": "d6c87cc8-6d3a-47d7-8904-9f1ea05e8b6d",
   "metadata": {},
   "outputs": [
    {
     "data": {
      "text/plain": [
       "2"
      ]
     },
     "execution_count": 1,
     "metadata": {},
     "output_type": "execute_result"
    }
   ],
   "source": [
    "def findIndex(nums, target):\n",
    "    l = 0\n",
    "    r = len(nums)-1\n",
    "    while l<=r:\n",
    "        mid = l + (r-l)//2\n",
    "        \n",
    "        if nums[mid]==target:\n",
    "            return mid\n",
    "        elif nums[mid]<target:\n",
    "            l = mid+1\n",
    "        else:\n",
    "            r = mid-1\n",
    "            \n",
    "    return l\n",
    "\n",
    "findIndex(nums = [1,3,5,6], target = 5)"
   ]
  },
  {
   "cell_type": "markdown",
   "id": "72036dce-864a-40e0-89b1-ff9b832e3697",
   "metadata": {},
   "source": [
    "<aside>\n",
    "💡 **Question 5**\n",
    "You are given a large integer represented as an integer array digits, where each\n",
    "digits[i] is the ith digit of the integer. The digits are ordered from most significant\n",
    "to least significant in left-to-right order. The large integer does not contain any\n",
    "leading 0's.\n",
    "\n",
    "Increment the large integer by one and return the resulting array of digits.\n",
    "\n",
    "**Example 1:**\n",
    "Input: digits = [1,2,3]\n",
    "Output: [1,2,4]\n",
    "\n",
    "**Explanation:** The array represents the integer 123.\n",
    "Incrementing by one gives 123 + 1 = 124.\n",
    "Thus, the result should be [1,2,4].\n",
    "\n",
    "</aside>"
   ]
  },
  {
   "cell_type": "code",
   "execution_count": 1,
   "id": "af2cce12-c426-482e-9aa4-027c95f43023",
   "metadata": {},
   "outputs": [
    {
     "data": {
      "text/plain": [
       "[1, 2, 4]"
      ]
     },
     "execution_count": 1,
     "metadata": {},
     "output_type": "execute_result"
    }
   ],
   "source": [
    "def plusOne(digits):\n",
    "    if digits[-1]<9:\n",
    "        digits[-1]+=1\n",
    "        return digits\n",
    "    elif len(digits)==1 and digits[-1]==9:\n",
    "        return [1,0]\n",
    "    else:\n",
    "        digits[-1]=0\n",
    "        digits[0:-1] = plusOne(digits[0:-1])\n",
    "        return digits\n",
    "    \n",
    "plusOne(digits = [1,2,3])"
   ]
  },
  {
   "cell_type": "code",
   "execution_count": 2,
   "id": "4c26194c-496d-4669-8f0f-9e69b51827b5",
   "metadata": {},
   "outputs": [
    {
     "data": {
      "text/plain": [
       "[1, 0, 0, 0]"
      ]
     },
     "execution_count": 2,
     "metadata": {},
     "output_type": "execute_result"
    }
   ],
   "source": [
    "plusOne(digits = [9,9,9])"
   ]
  },
  {
   "cell_type": "markdown",
   "id": "cc6c779f-a014-430b-9c29-c78a5396f9c3",
   "metadata": {},
   "source": [
    "Question 6\n",
    "Given a non-empty array of integers nums, every element appears twice except\n",
    "for one. Find that single one.\n",
    "\n",
    "You must implement a solution with a linear runtime complexity and use only\n",
    "constant extra space.\n",
    "\n",
    "Example 1:\n",
    "Input: nums = [2,2,1]\n",
    "Output: 1"
   ]
  },
  {
   "cell_type": "code",
   "execution_count": 6,
   "id": "0d5a90fb-e089-483c-8db5-034338277ebd",
   "metadata": {},
   "outputs": [
    {
     "data": {
      "text/plain": [
       "1"
      ]
     },
     "execution_count": 6,
     "metadata": {},
     "output_type": "execute_result"
    }
   ],
   "source": [
    "def singleNumber(nums):\n",
    "    result = 0\n",
    "    for num in nums:\n",
    "        result ^= num\n",
    "        \n",
    "    return result\n",
    "\n",
    "singleNumber(nums = [2,2,1])"
   ]
  },
  {
   "cell_type": "markdown",
   "id": "cb9305f1-375b-4419-97bd-6fde47228e14",
   "metadata": {},
   "source": [
    "Question 7\n",
    "You are given an inclusive range [lower, upper] and a sorted unique integer array\n",
    "nums, where all elements are within the inclusive range.\n",
    "\n",
    "A number x is considered missing if x is in the range [lower, upper] and x is not in\n",
    "nums.\n",
    "\n",
    "Return the shortest sorted list of ranges that exactly covers all the missing\n",
    "numbers. That is, no element of nums is included in any of the ranges, and each\n",
    "missing number is covered by one of the ranges.\n",
    "\n",
    "Example 1:\n",
    "Input: nums = [0,1,3,50,75], lower = 0, upper = 99\n",
    "Output: [[2,2],[4,49],[51,74],[76,99]]\n",
    "\n",
    "Explanation: The ranges are:\n",
    "[2,2]\n",
    "[4,49]\n",
    "[51,74]\n",
    "[76,99]"
   ]
  },
  {
   "cell_type": "code",
   "execution_count": 7,
   "id": "4f163dde-aebd-4c10-9e4a-bd8a8b64399c",
   "metadata": {},
   "outputs": [
    {
     "data": {
      "text/plain": [
       "[[2, 2], [4, 49], [51, 74], [76, 99]]"
      ]
     },
     "execution_count": 7,
     "metadata": {},
     "output_type": "execute_result"
    }
   ],
   "source": [
    "def missingRanges(nums, lower, upper):\n",
    "    nums.append(upper+1)\n",
    "    output = []\n",
    "    prev = lower -1\n",
    "    for num in nums:\n",
    "        if num - prev > 1:\n",
    "            if num - prev == 2:\n",
    "                output.append([prev+1, prev+1])\n",
    "            else:\n",
    "                output.append([prev+1, num-1])    \n",
    "        prev = num\n",
    "    return output\n",
    "\n",
    "missingRanges(nums = [0,1,3,50,75], lower = 0, upper = 99)"
   ]
  },
  {
   "cell_type": "markdown",
   "id": "5b75e74f-b693-467f-874c-106bcf8e8cbc",
   "metadata": {},
   "source": [
    "Question 8\n",
    "Given an array of meeting time intervals where intervals[i] = [starti, endi],\n",
    "determine if a person could attend all meetings.\n",
    "\n",
    "Example 1:\n",
    "Input: intervals = [[0,30],[5,10],[15,20]]\n",
    "Output: false"
   ]
  },
  {
   "cell_type": "code",
   "execution_count": 9,
   "id": "67eb7832-eb34-4048-a39e-b7afb3fde2d8",
   "metadata": {},
   "outputs": [
    {
     "data": {
      "text/plain": [
       "False"
      ]
     },
     "execution_count": 9,
     "metadata": {},
     "output_type": "execute_result"
    }
   ],
   "source": [
    "def canAttendMeetings(intervals):\n",
    "    intervals.sort(key= lambda x: x[0])\n",
    "    for i in range(1, len(intervals)):\n",
    "        if intervals[i-1][1]>intervals[i][0]:\n",
    "            return False\n",
    "    return True\n",
    "        \n",
    "canAttendMeetings(intervals = [[0,30],[5,10],[15,20]])"
   ]
  },
  {
   "cell_type": "code",
   "execution_count": null,
   "id": "cb94f55e-c37f-4413-b334-cb76b02c5d35",
   "metadata": {},
   "outputs": [],
   "source": []
  }
 ],
 "metadata": {
  "kernelspec": {
   "display_name": "Python 3 (ipykernel)",
   "language": "python",
   "name": "python3"
  },
  "language_info": {
   "codemirror_mode": {
    "name": "ipython",
    "version": 3
   },
   "file_extension": ".py",
   "mimetype": "text/x-python",
   "name": "python",
   "nbconvert_exporter": "python",
   "pygments_lexer": "ipython3",
   "version": "3.10.8"
  }
 },
 "nbformat": 4,
 "nbformat_minor": 5
}
