{
 "cells": [
  {
   "cell_type": "markdown",
   "id": "525dd14a-c685-4b86-a4d3-9bab7937fe96",
   "metadata": {},
   "source": [
    "Q1. Find K Closest Elements : https://leetcode.com/problems/find-k-closest-elements/"
   ]
  },
  {
   "cell_type": "code",
   "execution_count": 2,
   "id": "2d2f92df-8b3b-4b36-8bb4-a1d8bcc533ce",
   "metadata": {},
   "outputs": [
    {
     "data": {
      "text/plain": [
       "[1, 2, 3, 4]"
      ]
     },
     "execution_count": 2,
     "metadata": {},
     "output_type": "execute_result"
    }
   ],
   "source": [
    "def findClosestElements(arr: list[int], k: int, x: int) -> list[int]:\n",
    "    left = 0 \n",
    "    right = len(arr) - k\n",
    "    while left < right:\n",
    "        mid = left + (right - left) // 2\n",
    "        if (x - arr[mid]) > (arr[mid + k] - x):\n",
    "            left = mid + 1\n",
    "        else:\n",
    "            right = mid\n",
    "            \n",
    "    return arr[left : left + k]\n",
    "\n",
    "findClosestElements(arr = [1,2,3,4,5], k = 4, x = 3)"
   ]
  },
  {
   "cell_type": "markdown",
   "id": "1f13d63f-5965-4d9d-989e-4951ecb870fa",
   "metadata": {},
   "source": [
    "Q2. Kth Smallest Element in a Sorted Matrix : https://leetcode.com/problems/kth-smallest-element-in-a-sorted-matrix/description/"
   ]
  },
  {
   "cell_type": "code",
   "execution_count": 1,
   "id": "51a3d542-4313-406d-ac99-c15466c09312",
   "metadata": {},
   "outputs": [
    {
     "data": {
      "text/plain": [
       "13"
      ]
     },
     "execution_count": 1,
     "metadata": {},
     "output_type": "execute_result"
    }
   ],
   "source": [
    "def kthSmallest(matrix: list[list[int]], k: int) -> int:\n",
    "    # helper functio to count the elements upto mid\n",
    "    def count(target):\n",
    "        m, n = len(matrix), len(matrix[0])\n",
    "        i, j = m-1, 0\n",
    "        count = 0\n",
    "        while i >= 0 and j < n:\n",
    "            if matrix[j][i] > target:\n",
    "                i -= 1\n",
    "            else:\n",
    "                count += i + 1\n",
    "                j += 1\n",
    "                \n",
    "        return count\n",
    "    \n",
    "    m, n = len(matrix), len(matrix[0])\n",
    "    left = matrix[0][0]\n",
    "    right = matrix[m-1][n-1]\n",
    "    \n",
    "    while left < right:\n",
    "        mid = left + (right - left) // 2\n",
    "        cnt = count(mid)\n",
    "        \n",
    "        if cnt < k:\n",
    "            left = mid + 1\n",
    "        else:\n",
    "            right = mid\n",
    "            \n",
    "    return left\n",
    "\n",
    "kthSmallest(matrix = [[1,5,9],[10,11,13],[12,13,15]], k = 8)"
   ]
  },
  {
   "cell_type": "markdown",
   "id": "15cf1424-630f-4d28-8582-2061671e50d4",
   "metadata": {},
   "source": [
    "Q3. Top K Frequent Words : https://leetcode.com/problems/top-k-frequent-words/"
   ]
  },
  {
   "cell_type": "code",
   "execution_count": 4,
   "id": "678bf406-7b06-43c9-ba59-aadcbb161a6d",
   "metadata": {},
   "outputs": [
    {
     "data": {
      "text/plain": [
       "['i', 'love']"
      ]
     },
     "execution_count": 4,
     "metadata": {},
     "output_type": "execute_result"
    }
   ],
   "source": [
    "from collections import Counter\n",
    "import heapq\n",
    "\n",
    "def topKFrequent(words: list[str], k: int) -> list[str]:\n",
    "    count = Counter(words)\n",
    "\n",
    "    heap = [(-count, word) for word, count in count.items()]\n",
    "    \n",
    "    heapq.heapify(heap)\n",
    "    \n",
    "    return [heapq.heappop(heap)[1] for i in range(k)]\n",
    "    \n",
    "topKFrequent(words = [\"i\",\"love\",\"leetcode\",\"i\",\"love\",\"coding\"], k = 2)"
   ]
  },
  {
   "cell_type": "markdown",
   "id": "1e26e27e-b9f6-4c18-8fa9-9d3d164b3a89",
   "metadata": {},
   "source": [
    "Q4. Diameter of Binary Tree : https://leetcode.com/problems/diameter-of-binary-tree/"
   ]
  },
  {
   "cell_type": "code",
   "execution_count": null,
   "id": "888057ef-9516-4245-8e5d-714a8e72863a",
   "metadata": {},
   "outputs": [],
   "source": [
    "# Definition for a binary tree node.\n",
    "# class TreeNode:\n",
    "#     def __init__(self, val=0, left=None, right=None):\n",
    "#         self.val = val\n",
    "#         self.left = left\n",
    "#         self.right = right\n",
    "class Solution:\n",
    "    def diameterOfBinaryTree(self, root: Optional[TreeNode]) -> int:\n",
    "        def depth_and_diameter(root):\n",
    "            if not root:\n",
    "                return 0, 0\n",
    "\n",
    "            left_depth, left_diameter = depth_and_diameter(root.left)\n",
    "            right_depth, right_diameter = depth_and_diameter(root.right)\n",
    "\n",
    "            current_depth = 1 + max(left_depth, right_depth)\n",
    "            current_diameter = max(left_diameter, right_diameter, left_depth + right_depth)\n",
    "\n",
    "            return current_depth, current_diameter\n",
    "\n",
    "        return depth_and_diameter(root)[1]"
   ]
  },
  {
   "cell_type": "markdown",
   "id": "bf75eb20-0dc1-4b5b-add7-062d84e62e03",
   "metadata": {},
   "source": [
    "Q5. Symmetric Tree : https://leetcode.com/problems/symmetric-tree/"
   ]
  },
  {
   "cell_type": "code",
   "execution_count": null,
   "id": "f265f160-35dd-49ae-acca-16ee614e9dce",
   "metadata": {},
   "outputs": [],
   "source": [
    "# Definition for a binary tree node.\n",
    "# class TreeNode:\n",
    "#     def __init__(self, val=0, left=None, right=None):\n",
    "#         self.val = val\n",
    "#         self.left = left\n",
    "#         self.right = right\n",
    "class Solution:\n",
    "    def isMirror(self, leftroot, rightroot):\n",
    "        if not leftroot and not rightroot:\n",
    "            return True\n",
    "        if not leftroot or not rightroot:\n",
    "            return False\n",
    "        if leftroot.val != rightroot.val:\n",
    "            return False\n",
    "        return self.isMirror(leftroot.left, rightroot.right) and self.isMirror(leftroot.right, rightroot.left)\n",
    "    \n",
    "    def isSymmetric(self, root: Optional[TreeNode]) -> bool:\n",
    "        if not root:\n",
    "            return True\n",
    "\n",
    "        return self.isMirror(root.left, root.right)"
   ]
  },
  {
   "cell_type": "markdown",
   "id": "b7ae6664-450a-430f-83fe-b2a33aa6755d",
   "metadata": {},
   "source": [
    "Q6. Kth Largest Integer in the Array : https://leetcode.com/problems/find-the-kth-largest-integer-in-the-array/"
   ]
  },
  {
   "cell_type": "code",
   "execution_count": 23,
   "id": "82d5ea72-c019-4d2a-9c01-9568db4d494c",
   "metadata": {},
   "outputs": [
    {
     "data": {
      "text/plain": [
       "'3'"
      ]
     },
     "execution_count": 23,
     "metadata": {},
     "output_type": "execute_result"
    }
   ],
   "source": [
    "import heapq\n",
    "\n",
    "def kthLargestNumber(nums: list[str], k: int) -> str:\n",
    "    heap = [-int(num) for num in nums]\n",
    "\n",
    "    heapq.heapify(heap)\n",
    "    \n",
    "    while k > 1:\n",
    "        heapq.heappop(heap)\n",
    "        k -= 1\n",
    "        \n",
    "    return str(-heapq.heappop(heap))\n",
    "    \n",
    "kthLargestNumber(nums = [\"3\",\"6\",\"7\",\"10\"], k = 4)"
   ]
  },
  {
   "cell_type": "markdown",
   "id": "ce3363a3-2909-45ab-8773-c7b0b27abb3b",
   "metadata": {},
   "source": [
    "Q7. Invert Binary Tree : https://leetcode.com/problems/invert-binary-tree/"
   ]
  },
  {
   "cell_type": "code",
   "execution_count": null,
   "id": "052ba924-11e5-429e-9cc7-0dfb54df1d4f",
   "metadata": {},
   "outputs": [],
   "source": [
    "# Definition for a binary tree node.\n",
    "# class TreeNode:\n",
    "#     def __init__(self, val=0, left=None, right=None):\n",
    "#         self.val = val\n",
    "#         self.left = left\n",
    "#         self.right = right\n",
    "class Solution:\n",
    "    def invertTree(self, root: Optional[TreeNode]) -> Optional[TreeNode]:\n",
    "        if root:\n",
    "            root.left, root.right = self.invertTree(root.right), self.invertTree(root.left)\n",
    "\n",
    "        return root"
   ]
  },
  {
   "cell_type": "markdown",
   "id": "df7f2797-72bd-4195-9c31-0efd90d2dfb5",
   "metadata": {},
   "source": [
    "Q8. Print Binary Tree : https://leetcode.com/problems/print-binary-tree/"
   ]
  },
  {
   "cell_type": "code",
   "execution_count": null,
   "id": "2e96708b-b157-48c6-a1ae-d88679ea58b3",
   "metadata": {},
   "outputs": [],
   "source": [
    "# Definition for a binary tree node.\n",
    "# class TreeNode:\n",
    "#     def __init__(self, val=0, left=None, right=None):\n",
    "#         self.val = val\n",
    "#         self.left = left\n",
    "#         self.right = right\n",
    "class Solution:\n",
    "    def printTree(self, root: Optional[TreeNode]) -> List[List[str]]:\n",
    "        def getHeight(node):\n",
    "            if not node:\n",
    "                return 0\n",
    "            return 1 + max(getHeight(node.left), getHeight(node.right))\n",
    "        \n",
    "        height = getHeight(root)-1\n",
    "        m, n = height + 1, 2**(height+1) - 1  # Fix the dimensions of the matrix\n",
    "        \n",
    "        res = [[\"\" for _ in range(n)] for _ in range(m)]  # Initialize the matrix with the correct dimensions\n",
    "        \n",
    "        queue = deque([(root, 0, (n-1) // 2)])\n",
    "        \n",
    "        while queue:\n",
    "            level_size = len(queue)\n",
    "            for _ in range(level_size):\n",
    "                node, row, col = queue.popleft()\n",
    "                res[row][col] = str(node.val)\n",
    "                if node.left:\n",
    "                    queue.append((node.left, row + 1, col - 2**(height-row-1)))\n",
    "                if node.right:\n",
    "                    queue.append((node.right, row + 1, col + 2**(height-row-1)))\n",
    "        \n",
    "        return res"
   ]
  },
  {
   "cell_type": "code",
   "execution_count": null,
   "id": "6e68e7f0-01a4-471b-b4e0-151b43562d61",
   "metadata": {},
   "outputs": [],
   "source": []
  }
 ],
 "metadata": {
  "kernelspec": {
   "display_name": "Python 3 (ipykernel)",
   "language": "python",
   "name": "python3"
  },
  "language_info": {
   "codemirror_mode": {
    "name": "ipython",
    "version": 3
   },
   "file_extension": ".py",
   "mimetype": "text/x-python",
   "name": "python",
   "nbconvert_exporter": "python",
   "pygments_lexer": "ipython3",
   "version": "3.10.8"
  }
 },
 "nbformat": 4,
 "nbformat_minor": 5
}
