{
 "cells": [
  {
   "cell_type": "markdown",
   "id": "8e23c270-edf3-45ae-a112-64c6fbdca1b8",
   "metadata": {},
   "source": [
    "Q1. Unique Binary Search Trees : https://leetcode.com/problems/unique-binary-search-trees/"
   ]
  },
  {
   "cell_type": "markdown",
   "id": "9877fb0a-4b27-497d-89fb-53e45d854e17",
   "metadata": {},
   "source": [
    "The number of structurally unique BSTs with n nodes is given by the nth Catalan number, which can be calculated using the formula:\n",
    "\n",
    "C(n) = (2n)! / [(n+1)! * n!]"
   ]
  },
  {
   "cell_type": "code",
   "execution_count": 3,
   "id": "7193446e-b17c-45c8-9b88-19df6e8eb5e8",
   "metadata": {},
   "outputs": [
    {
     "data": {
      "text/plain": [
       "5"
      ]
     },
     "execution_count": 3,
     "metadata": {},
     "output_type": "execute_result"
    }
   ],
   "source": [
    "def numTrees(n: int) -> int:\n",
    "    def factorial(num):\n",
    "        if num <= 1:\n",
    "            return 1\n",
    "        return num * factorial(num - 1)\n",
    "\n",
    "    return factorial(2 * n) // (factorial(n + 1) * factorial(n))\n",
    "\n",
    "numTrees(3)"
   ]
  },
  {
   "cell_type": "markdown",
   "id": "50b93792-1048-44df-949b-ed53091f0b7b",
   "metadata": {},
   "source": [
    "Q2. Validate Binary Search Tree : https://leetcode.com/problems/validate-binary-search-tree/"
   ]
  },
  {
   "cell_type": "code",
   "execution_count": null,
   "id": "42a24615-4599-4b64-838f-33eac82700df",
   "metadata": {},
   "outputs": [],
   "source": [
    "# Definition for a binary tree node.\n",
    "# class TreeNode:\n",
    "#     def __init__(self, val=0, left=None, right=None):\n",
    "#         self.val = val\n",
    "#         self.left = left\n",
    "#         self.right = right\n",
    "class Solution:\n",
    "    def isValidBST(self, root: Optional[TreeNode]) -> bool:\n",
    "        def in_order_traversal(node, res):\n",
    "            if not node:\n",
    "                return\n",
    "            \n",
    "            in_order_traversal(node.left, res)\n",
    "            res.append(node.val)\n",
    "            in_order_traversal(node.right, res)\n",
    "\n",
    "        res = []\n",
    "        in_order_traversal(root, res)\n",
    "        \n",
    "        # Check if the resulting list is sorted in ascending order\n",
    "        for i in range(1, len(res)):\n",
    "            if res[i] <= res[i - 1]:\n",
    "                return False\n",
    "        \n",
    "        return True"
   ]
  },
  {
   "cell_type": "markdown",
   "id": "80f6ca78-6da5-44f2-bdfc-768a422e1032",
   "metadata": {},
   "source": [
    "Q3. Recover Binary Search Tree : https://leetcode.com/problems/recover-binary-search-tree/"
   ]
  },
  {
   "cell_type": "code",
   "execution_count": null,
   "id": "444283fd-9304-4cee-93c0-03fd1c327bbb",
   "metadata": {},
   "outputs": [],
   "source": [
    "# Definition for a binary tree node.\n",
    "# class TreeNode:\n",
    "#     def __init__(self, val=0, left=None, right=None):\n",
    "#         self.val = val\n",
    "#         self.left = left\n",
    "#         self.right = right\n",
    "class Solution:\n",
    "    def recoverTree(self, root: Optional[TreeNode]) -> None:\n",
    "        \"\"\"\n",
    "        Do not return anything, modify root in-place instead.\n",
    "        \"\"\"\n",
    "        def inOrderTraversal(root):\n",
    "            nonlocal first, second, prev\n",
    "            if not root:\n",
    "                return\n",
    "            inOrderTraversal(root.left)\n",
    "\n",
    "            if prev and prev.val > root.val:\n",
    "                if not first:\n",
    "                    first = prev\n",
    "                second = root\n",
    "\n",
    "            prev = root\n",
    "\n",
    "            inOrderTraversal(root.right)\n",
    "\n",
    "        first, second, prev = None, None, None\n",
    "        inOrderTraversal(root)\n",
    "\n",
    "        first.val, second.val = second.val, first.val"
   ]
  },
  {
   "cell_type": "markdown",
   "id": "88f896b2-adec-4272-9319-f69917c3ee0f",
   "metadata": {},
   "source": [
    "Q4. Convert Sorted Array to BST : https://leetcode.com/problems/convert-sorted-array-to-binary-search-tree/"
   ]
  },
  {
   "cell_type": "code",
   "execution_count": null,
   "id": "58ac9f9c-0a0c-4b2d-853c-2dcb4384dab6",
   "metadata": {},
   "outputs": [],
   "source": [
    "# Definition for a binary tree node.\n",
    "# class TreeNode:\n",
    "#     def __init__(self, val=0, left=None, right=None):\n",
    "#         self.val = val\n",
    "#         self.left = left\n",
    "#         self.right = right\n",
    "class Solution:\n",
    "    def sortedArrayToBST(self, nums: List[int]) -> Optional[TreeNode]:\n",
    "        # Base case: if the array is empty, return None\n",
    "        if not nums:\n",
    "            return None\n",
    "        \n",
    "        # Find the middle index of the array\n",
    "        mid = len(nums) // 2\n",
    "        \n",
    "        # Create the root node using the middle element\n",
    "        root = TreeNode(nums[mid])\n",
    "        \n",
    "        # Recursively build the left and right subtrees\n",
    "        root.left = self.sortedArrayToBST(nums[:mid])\n",
    "        root.right = self.sortedArrayToBST(nums[mid+1:])\n",
    "        \n",
    "        return root"
   ]
  },
  {
   "cell_type": "markdown",
   "id": "d0e71a9e-2a17-46ab-b9e4-bc28fb22437f",
   "metadata": {},
   "source": [
    "Q5. Lowest Common Ancestor of a Binary Search Tree : https://leetcode.com/problems/lowest-common-ancestor-of-a-binary-search-tree/"
   ]
  },
  {
   "cell_type": "code",
   "execution_count": null,
   "id": "775af07e-7d78-411c-bb48-6013fc53a394",
   "metadata": {},
   "outputs": [],
   "source": [
    "# Definition for a binary tree node.\n",
    "# class TreeNode:\n",
    "#     def __init__(self, x):\n",
    "#         self.val = x\n",
    "#         self.left = None\n",
    "#         self.right = None\n",
    "\n",
    "class Solution:\n",
    "    def lowestCommonAncestor(self, root: 'TreeNode', p: 'TreeNode', q: 'TreeNode') -> 'TreeNode':\n",
    "        curr = root\n",
    "\n",
    "        while curr:\n",
    "            if p.val > curr.val and q.val > curr.val:\n",
    "                curr = curr.right\n",
    "            elif p.val < curr.val and q.val < curr.val:\n",
    "                curr = curr.left\n",
    "            else:\n",
    "                return curr"
   ]
  },
  {
   "cell_type": "markdown",
   "id": "2029b98a-ebac-4e55-a0be-70f6238affcc",
   "metadata": {},
   "source": [
    "Q6. Insert into a BST : https://leetcode.com/problems/insert-into-a-binary-search-tree/"
   ]
  },
  {
   "cell_type": "code",
   "execution_count": null,
   "id": "f40b8b1b-2551-43a6-8da0-9e380fab21ef",
   "metadata": {},
   "outputs": [],
   "source": [
    "# Definition for a binary tree node.\n",
    "# class TreeNode:\n",
    "#     def __init__(self, val=0, left=None, right=None):\n",
    "#         self.val = val\n",
    "#         self.left = left\n",
    "#         self.right = right\n",
    "class Solution:\n",
    "    def insertIntoBST(self, root: Optional[TreeNode], val: int) -> Optional[TreeNode]:\n",
    "        if not root:\n",
    "            return TreeNode(val)\n",
    "        if val > root.val:\n",
    "            root.right = self.insertIntoBST(root.right, val)\n",
    "        else:\n",
    "            root.left = self.insertIntoBST(root.left, val)\n",
    "\n",
    "        return root"
   ]
  },
  {
   "cell_type": "markdown",
   "id": "9de381ca-8e3e-43df-8315-1b85bd30be52",
   "metadata": {},
   "source": [
    "Q7. Number of Ways to Reorder Array to Get Same BST : https://leetcode.com/problems/number-of-ways-to-reorder-array-to-get-same-bst/"
   ]
  },
  {
   "cell_type": "code",
   "execution_count": 4,
   "id": "e12fcf76-8ee3-44d8-aef7-c57f5b1f3102",
   "metadata": {},
   "outputs": [
    {
     "data": {
      "text/plain": [
       "5"
      ]
     },
     "execution_count": 4,
     "metadata": {},
     "output_type": "execute_result"
    }
   ],
   "source": [
    "from math import comb\n",
    "\n",
    "def numOfWays(nums: list[int]) -> int:\n",
    "    MOD = 10**9 + 7\n",
    "\n",
    "    def count_ways(nums):\n",
    "        if len(nums) <= 2:\n",
    "            return 1\n",
    "\n",
    "        root = nums[0]\n",
    "        left = [x for x in nums if x < root]\n",
    "        right = [x for x in nums if x > root]\n",
    "\n",
    "        # Calculate the number of ways for the left and right subtrees\n",
    "        num_left = count_ways(left)\n",
    "        num_right = count_ways(right)\n",
    "\n",
    "        # The total number of ways to reorder nums is the product of num_left and num_right\n",
    "        return comb(len(left) + len(right), len(right)) * num_left * num_right\n",
    "\n",
    "    return (count_ways(nums)-1) % MOD  # Return the result modulo MOD & subtract 1 to exculde the given way\n",
    "\n",
    "numOfWays([3,4,5,1,2])"
   ]
  },
  {
   "cell_type": "markdown",
   "id": "46b3a17e-f71c-4533-af94-8579f8fcd57f",
   "metadata": {},
   "source": [
    "Q8. Minimum Absolute Difference in BST : https://leetcode.com/problems/minimum-absolute-difference-in-bst/"
   ]
  },
  {
   "cell_type": "code",
   "execution_count": null,
   "id": "e02e6b4b-6ffd-45d5-b6fd-51a7b7a55777",
   "metadata": {},
   "outputs": [],
   "source": [
    "# Definition for a binary tree node.\n",
    "# class TreeNode:\n",
    "#     def __init__(self, val=0, left=None, right=None):\n",
    "#         self.val = val\n",
    "#         self.left = left\n",
    "#         self.right = right\n",
    "class Solution:\n",
    "    def getMinimumDifference(self, root: Optional[TreeNode]) -> int:\n",
    "        def helper(root, lo, hi):\n",
    "            if not root:\n",
    "                return hi - lo\n",
    "\n",
    "            left = helper(root.left, lo, root.val)\n",
    "            right = helper(root.right, root.val, hi)\n",
    "\n",
    "            return min(left, right)\n",
    "\n",
    "        return helper(root, float('-inf'), float('inf'))"
   ]
  },
  {
   "cell_type": "code",
   "execution_count": null,
   "id": "fdf93f4b-26b2-4434-a0c3-16fa70341f28",
   "metadata": {},
   "outputs": [],
   "source": []
  }
 ],
 "metadata": {
  "kernelspec": {
   "display_name": "Python 3 (ipykernel)",
   "language": "python",
   "name": "python3"
  },
  "language_info": {
   "codemirror_mode": {
    "name": "ipython",
    "version": 3
   },
   "file_extension": ".py",
   "mimetype": "text/x-python",
   "name": "python",
   "nbconvert_exporter": "python",
   "pygments_lexer": "ipython3",
   "version": "3.10.8"
  }
 },
 "nbformat": 4,
 "nbformat_minor": 5
}
